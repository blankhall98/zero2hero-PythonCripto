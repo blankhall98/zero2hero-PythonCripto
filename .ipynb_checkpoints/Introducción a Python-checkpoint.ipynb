{
 "cells": [
  {
   "cell_type": "markdown",
   "metadata": {},
   "source": [
    "# Introducción a Python\n",
    "\n",
    "¡Un curso de zero2hero!\n",
    "\n",
    "$\\textbf{Instructor}$: Jonatan Blank Hall"
   ]
  },
  {
   "cell_type": "markdown",
   "metadata": {},
   "source": [
    "### 1. Variables"
   ]
  },
  {
   "cell_type": "code",
   "execution_count": 14,
   "metadata": {},
   "outputs": [
    {
     "name": "stdout",
     "output_type": "stream",
     "text": [
      "Año de nacimiento: 1998\n"
     ]
    }
   ],
   "source": [
    "edad = 24\n",
    "año = 2022\n",
    "\n",
    "año_nacimiento = año - edad\n",
    "\n",
    "print(f'Año de nacimiento: {año_nacimiento}')"
   ]
  },
  {
   "cell_type": "code",
   "execution_count": 18,
   "metadata": {},
   "outputs": [
    {
     "name": "stdout",
     "output_type": "stream",
     "text": [
      "Nombre: Jonatan\n",
      "Muy buenos días Jonatan\n"
     ]
    }
   ],
   "source": [
    "nombre = input('Nombre: ')\n",
    "print(f'Muy buenos días {nombre}')"
   ]
  },
  {
   "cell_type": "code",
   "execution_count": 21,
   "metadata": {},
   "outputs": [
    {
     "name": "stdout",
     "output_type": "stream",
     "text": [
      "\n",
      "    Buenos días Juan Carlos,\n",
      "    De tu ingreso total $30000:\n",
      "    $4500.0 dedicas a gastos fijos\n",
      "    $3000.0 dedicas a gastos variables\n",
      "    $3000.0 dedicas a gastos inversion\n",
      "    $19500.0 dedicas a ahorros\n",
      "\n"
     ]
    }
   ],
   "source": [
    "nombre = 'Juan Carlos'\n",
    "edad = 29\n",
    "ingreso = 30000\n",
    "gasto_fijo = .15\n",
    "gasto_variable = .1\n",
    "gasto_inversion = .1\n",
    "ahorro = 1 - (gasto_fijo + gasto_variable + gasto_inversion)\n",
    "\n",
    "#Reporte financiero\n",
    "print(f'''\n",
    "    Buenos días {nombre},\n",
    "    De tu ingreso total ${ingreso}:\n",
    "    ${ingreso*gasto_fijo} dedicas a gastos fijos\n",
    "    ${ingreso*gasto_variable} dedicas a gastos variables\n",
    "    ${ingreso*gasto_inversion} dedicas a gastos inversion\n",
    "    ${ingreso*ahorro} dedicas a ahorros\n",
    "''')"
   ]
  },
  {
   "cell_type": "markdown",
   "metadata": {},
   "source": [
    "### 2. Operaciones Matemáticas"
   ]
  },
  {
   "cell_type": "code",
   "execution_count": 24,
   "metadata": {},
   "outputs": [
    {
     "name": "stdout",
     "output_type": "stream",
     "text": [
      "40\n",
      "Hola Bebe\n"
     ]
    }
   ],
   "source": [
    "#operacion suma\n",
    "print(10+10+20)\n",
    "\n",
    "print('Hola'+' '+'Bebe')"
   ]
  },
  {
   "cell_type": "code",
   "execution_count": 25,
   "metadata": {},
   "outputs": [
    {
     "name": "stdout",
     "output_type": "stream",
     "text": [
      "30\n",
      "holaholaholaholahola\n"
     ]
    }
   ],
   "source": [
    "#operacion multiplicacion\n",
    "print(10*3)\n",
    "\n",
    "print('hola'*5)"
   ]
  },
  {
   "cell_type": "code",
   "execution_count": 26,
   "metadata": {},
   "outputs": [
    {
     "data": {
      "text/plain": [
       "9.0"
      ]
     },
     "execution_count": 26,
     "metadata": {},
     "output_type": "execute_result"
    }
   ],
   "source": [
    "#operacion division\n",
    "90/10"
   ]
  },
  {
   "cell_type": "code",
   "execution_count": 27,
   "metadata": {},
   "outputs": [
    {
     "data": {
      "text/plain": [
       "10000"
      ]
     },
     "execution_count": 27,
     "metadata": {},
     "output_type": "execute_result"
    }
   ],
   "source": [
    "#operacion exponente\n",
    "10**4"
   ]
  },
  {
   "cell_type": "code",
   "execution_count": 28,
   "metadata": {},
   "outputs": [
    {
     "data": {
      "text/plain": [
       "1"
      ]
     },
     "execution_count": 28,
     "metadata": {},
     "output_type": "execute_result"
    }
   ],
   "source": [
    "#operacion módulo\n",
    "10%3"
   ]
  },
  {
   "cell_type": "markdown",
   "metadata": {},
   "source": [
    "### 3. Booleanos"
   ]
  },
  {
   "cell_type": "code",
   "execution_count": 29,
   "metadata": {},
   "outputs": [],
   "source": [
    "verdadero = True\n",
    "falso = False"
   ]
  },
  {
   "cell_type": "code",
   "execution_count": 30,
   "metadata": {},
   "outputs": [
    {
     "data": {
      "text/plain": [
       "True"
      ]
     },
     "execution_count": 30,
     "metadata": {},
     "output_type": "execute_result"
    }
   ],
   "source": [
    "10+1 == 12-1"
   ]
  },
  {
   "cell_type": "code",
   "execution_count": 31,
   "metadata": {},
   "outputs": [
    {
     "data": {
      "text/plain": [
       "False"
      ]
     },
     "execution_count": 31,
     "metadata": {},
     "output_type": "execute_result"
    }
   ],
   "source": [
    "10+2 == 10*2-6"
   ]
  },
  {
   "cell_type": "code",
   "execution_count": 32,
   "metadata": {},
   "outputs": [
    {
     "data": {
      "text/plain": [
       "True"
      ]
     },
     "execution_count": 32,
     "metadata": {},
     "output_type": "execute_result"
    }
   ],
   "source": [
    "10+5 != 16"
   ]
  },
  {
   "cell_type": "code",
   "execution_count": 35,
   "metadata": {},
   "outputs": [
    {
     "data": {
      "text/plain": [
       "False"
      ]
     },
     "execution_count": 35,
     "metadata": {},
     "output_type": "execute_result"
    }
   ],
   "source": [
    "0 == 0.00000000001"
   ]
  },
  {
   "cell_type": "markdown",
   "metadata": {},
   "source": [
    "### 4. Operaciones lógicas"
   ]
  },
  {
   "cell_type": "code",
   "execution_count": 36,
   "metadata": {},
   "outputs": [
    {
     "data": {
      "text/plain": [
       "True"
      ]
     },
     "execution_count": 36,
     "metadata": {},
     "output_type": "execute_result"
    }
   ],
   "source": [
    "#and\n",
    "15 > 10 and 9 > 8"
   ]
  },
  {
   "cell_type": "code",
   "execution_count": 37,
   "metadata": {},
   "outputs": [
    {
     "data": {
      "text/plain": [
       "False"
      ]
     },
     "execution_count": 37,
     "metadata": {},
     "output_type": "execute_result"
    }
   ],
   "source": [
    "12 > 1 and 10 > 11"
   ]
  },
  {
   "cell_type": "code",
   "execution_count": 39,
   "metadata": {},
   "outputs": [
    {
     "name": "stdout",
     "output_type": "stream",
     "text": [
      "username: blankhall\n",
      "password: ilovepython\n"
     ]
    },
    {
     "data": {
      "text/plain": [
       "True"
      ]
     },
     "execution_count": 39,
     "metadata": {},
     "output_type": "execute_result"
    }
   ],
   "source": [
    "username = 'blankhall'\n",
    "password = 'ilovepython'\n",
    "\n",
    "u = input('username: ')\n",
    "p = input('password: ')\n",
    "\n",
    "username == u and password == p"
   ]
  },
  {
   "cell_type": "code",
   "execution_count": 40,
   "metadata": {},
   "outputs": [
    {
     "data": {
      "text/plain": [
       "True"
      ]
     },
     "execution_count": 40,
     "metadata": {},
     "output_type": "execute_result"
    }
   ],
   "source": [
    "#or \n",
    "'hola' == 'HOLA' or 1 > 0"
   ]
  },
  {
   "cell_type": "code",
   "execution_count": 42,
   "metadata": {},
   "outputs": [
    {
     "data": {
      "text/plain": [
       "False"
      ]
     },
     "execution_count": 42,
     "metadata": {},
     "output_type": "execute_result"
    }
   ],
   "source": [
    "10 > 100 or 9 == 9.1"
   ]
  },
  {
   "cell_type": "markdown",
   "metadata": {},
   "source": [
    "### 5. Condicionales"
   ]
  },
  {
   "cell_type": "code",
   "execution_count": 44,
   "metadata": {},
   "outputs": [
    {
     "name": "stdout",
     "output_type": "stream",
     "text": [
      "name: jonatan\n",
      "bienvenido guapo\n"
     ]
    }
   ],
   "source": [
    "name = input('name: ')\n",
    "\n",
    "if name == 'jonatan':\n",
    "    print('bienvenido guapo')\n",
    "else:\n",
    "    print(f'Bienvenido, {name}')"
   ]
  },
  {
   "cell_type": "code",
   "execution_count": 51,
   "metadata": {},
   "outputs": [
    {
     "name": "stdout",
     "output_type": "stream",
     "text": [
      "username: hohoho\n",
      "password: 989\n",
      "Usuario o Contraseña incorrectos. Vuelve a Intentarlo\n",
      "username: blankhall\n",
      "password: ilovepython\n",
      "Bienvenido, puedes entrar blankhall!\n"
     ]
    }
   ],
   "source": [
    "username = 'blankhall'\n",
    "password = 'ilovepython'\n",
    "\n",
    "u = input('username: ')\n",
    "p = input('password: ')\n",
    "\n",
    "if username == u and password == p:\n",
    "    print(f'Bienvenido, puedes entrar {username}!')\n",
    "else:\n",
    "    print('Usuario o Contraseña incorrectos. Vuelve a Intentarlo')"
   ]
  },
  {
   "cell_type": "code",
   "execution_count": 50,
   "metadata": {},
   "outputs": [
    {
     "name": "stdout",
     "output_type": "stream",
     "text": [
      "estás aún muy chiquito, no pasas\n"
     ]
    }
   ],
   "source": [
    "#estructura if else\n",
    "edad = 16\n",
    "\n",
    "if edad > 18:\n",
    "    print('Puedes entrar')\n",
    "elif edad == 18:\n",
    "    print('Apenas pasaste, muestra esa ID')\n",
    "elif edad == 17:\n",
    "    print('uuuuy chavo, te quedaste a nada')\n",
    "else:\n",
    "    print('estás aún muy chiquito, no pasas')"
   ]
  },
  {
   "cell_type": "markdown",
   "metadata": {},
   "source": [
    "### 6. While"
   ]
  },
  {
   "cell_type": "code",
   "execution_count": 4,
   "metadata": {},
   "outputs": [
    {
     "name": "stdout",
     "output_type": "stream",
     "text": [
      "1\n",
      "2\n",
      "3\n",
      "4\n",
      "5\n",
      "6\n",
      "7\n",
      "8\n",
      "9\n",
      "10\n"
     ]
    }
   ],
   "source": [
    "i = 0\n",
    "while i < 10:\n",
    "    i = i+1\n",
    "    print(i)"
   ]
  },
  {
   "cell_type": "code",
   "execution_count": 5,
   "metadata": {},
   "outputs": [
    {
     "name": "stdout",
     "output_type": "stream",
     "text": [
      "name: raul\n",
      "no eres quien esperaba\n",
      "name: fede\n",
      "no eres quien esperaba\n",
      "name: jonatan\n",
      "bienvenido maestro\n"
     ]
    }
   ],
   "source": [
    "token = False\n",
    "while not token:\n",
    "    name = input('name: ')\n",
    "    #quiero que pongan jonatan\n",
    "    if name == 'jonatan':\n",
    "        print('bienvenido maestro')\n",
    "        token = True\n",
    "    else:\n",
    "        print('no eres quien esperaba')"
   ]
  },
  {
   "cell_type": "markdown",
   "metadata": {},
   "source": [
    "### 7. Listas"
   ]
  },
  {
   "cell_type": "code",
   "execution_count": 8,
   "metadata": {},
   "outputs": [],
   "source": [
    "#arrays\n",
    "lista = ['pepe']"
   ]
  },
  {
   "cell_type": "code",
   "execution_count": 9,
   "metadata": {},
   "outputs": [
    {
     "data": {
      "text/plain": [
       "1"
      ]
     },
     "execution_count": 9,
     "metadata": {},
     "output_type": "execute_result"
    }
   ],
   "source": [
    "#numero de elementos en la lista\n",
    "len(lista)"
   ]
  },
  {
   "cell_type": "code",
   "execution_count": 10,
   "metadata": {},
   "outputs": [],
   "source": [
    "#agregar elementos a la lista\n",
    "lista.append('raul')"
   ]
  },
  {
   "cell_type": "code",
   "execution_count": 13,
   "metadata": {},
   "outputs": [],
   "source": [
    "amigos = ['pepe','raul','jose','fernando']"
   ]
  },
  {
   "cell_type": "code",
   "execution_count": 16,
   "metadata": {},
   "outputs": [],
   "source": [
    "#eliminar un elemento\n",
    "amigos.remove('raul')"
   ]
  },
  {
   "cell_type": "code",
   "execution_count": 17,
   "metadata": {},
   "outputs": [
    {
     "name": "stdout",
     "output_type": "stream",
     "text": [
      "['pepe', 'jose', 'fernando']\n"
     ]
    }
   ],
   "source": [
    "print(amigos)"
   ]
  },
  {
   "cell_type": "markdown",
   "metadata": {},
   "source": [
    "### 8. Ciclos"
   ]
  },
  {
   "cell_type": "code",
   "execution_count": 18,
   "metadata": {},
   "outputs": [],
   "source": [
    "numeros = [1,2,3,4,5,6]"
   ]
  },
  {
   "cell_type": "code",
   "execution_count": 22,
   "metadata": {},
   "outputs": [
    {
     "name": "stdout",
     "output_type": "stream",
     "text": [
      "El número actual es: 1\n",
      "El número actual es: 2\n",
      "El número actual es: 3\n",
      "El número actual es: 4\n",
      "El número actual es: 5\n",
      "El número actual es: 6\n"
     ]
    }
   ],
   "source": [
    "for n in numeros:\n",
    "    print(f'El número actual es: {n}')"
   ]
  },
  {
   "cell_type": "code",
   "execution_count": 32,
   "metadata": {},
   "outputs": [
    {
     "name": "stdout",
     "output_type": "stream",
     "text": [
      "El pretendiente julio obtuvo una calificación -0.5\n",
      "El pretendiente vladimir obtuvo una calificación 1\n",
      "El pretendiente rodrigo obtuvo una calificación 2\n"
     ]
    }
   ],
   "source": [
    "max_pretendientes = 5\n",
    "cabello = 'negro'\n",
    "minimo_altura = 1.80\n",
    "minimo_salario = 0\n",
    "minimo_interes = 4\n",
    "corpulencia = 'mamado'\n",
    "\n",
    "pretendientes = [\n",
    "    ['julio','negro',1.60,12000,3,'esqualido'],\n",
    "    ['vladimir','rubio',1.90,25000,10,'obeso'],\n",
    "    ['rodrigo','negro',1.75,24000,6,'mamado']\n",
    "]\n",
    "\n",
    "for p in pretendientes:\n",
    "    calif = 0\n",
    "    #criterio cabello\n",
    "    if p[1] == 'negro':\n",
    "        calif = calif + 1\n",
    "    elif p[1] == 'castaño':\n",
    "        calif = calif + 0.5\n",
    "    #altura\n",
    "    if p[2] > 1.8:\n",
    "        calif = calif + 1\n",
    "    elif p[2] > 1.75:\n",
    "        calif = calif + .5\n",
    "    else: \n",
    "        calif = calif - 1\n",
    "    #salario\n",
    "    if p[3] > 0:\n",
    "        calif = calif + 0\n",
    "    #interes\n",
    "    if p[4] > 4:\n",
    "        calif = calif + 1\n",
    "    elif p[4] > 1:\n",
    "        calif = calif + 0.5\n",
    "    else:\n",
    "        calif = calif - 1\n",
    "    #corpulencia\n",
    "    if p[5] == 'mamado':\n",
    "        calif = calif + 1\n",
    "    elif p[5] == 'esqualido' or p[5] == 'obeso':\n",
    "        calif = calif - 1\n",
    "    \n",
    "    #calificacion\n",
    "    print(f'El pretendiente {p[0]} obtuvo una calificación {calif}')"
   ]
  },
  {
   "cell_type": "markdown",
   "metadata": {},
   "source": [
    "### 9. Funciones"
   ]
  },
  {
   "cell_type": "code",
   "execution_count": 33,
   "metadata": {},
   "outputs": [],
   "source": [
    "def saludar(name):\n",
    "    print(f'hola {name}')"
   ]
  },
  {
   "cell_type": "code",
   "execution_count": 34,
   "metadata": {},
   "outputs": [
    {
     "name": "stdout",
     "output_type": "stream",
     "text": [
      "hola pedro\n"
     ]
    }
   ],
   "source": [
    "saludar('pedro')"
   ]
  },
  {
   "cell_type": "code",
   "execution_count": 37,
   "metadata": {},
   "outputs": [],
   "source": [
    "def calificar_pretendiente(p):\n",
    "    calif = 0\n",
    "    #criterio cabello\n",
    "    if p[1] == 'negro':\n",
    "        calif = calif + 1\n",
    "    elif p[1] == 'castaño':\n",
    "        calif = calif + 0.5\n",
    "    #altura\n",
    "    if p[2] > 1.8:\n",
    "        calif = calif + 1\n",
    "    elif p[2] > 1.75:\n",
    "        calif = calif + .5\n",
    "    else: \n",
    "        calif = calif - 1\n",
    "    #salario\n",
    "    if p[3] > 0:\n",
    "        calif = calif + 0\n",
    "    #interes\n",
    "    if p[4] > 4:\n",
    "        calif = calif + 1\n",
    "    elif p[4] > 1:\n",
    "        calif = calif + 0.5\n",
    "    else:\n",
    "        calif = calif - 1\n",
    "    #corpulencia\n",
    "    if p[5] == 'mamado':\n",
    "        calif = calif + 1\n",
    "    elif p[5] == 'esqualido' or p[5] == 'obeso':\n",
    "        calif = calif - 1\n",
    "    \n",
    "    #calificacion\n",
    "    print(f'El pretendiente {p[0]} obtuvo una calificación {calif}')"
   ]
  },
  {
   "cell_type": "code",
   "execution_count": 38,
   "metadata": {},
   "outputs": [
    {
     "name": "stdout",
     "output_type": "stream",
     "text": [
      "El pretendiente rodrigo obtuvo una calificación 2\n"
     ]
    }
   ],
   "source": [
    "calificar_pretendiente(['rodrigo','negro',1.75,24000,6,'mamado'])"
   ]
  },
  {
   "cell_type": "code",
   "execution_count": 41,
   "metadata": {},
   "outputs": [
    {
     "name": "stdout",
     "output_type": "stream",
     "text": [
      "El pretendiente julio obtuvo una calificación -0.5\n",
      "El pretendiente vladimir obtuvo una calificación 1\n",
      "El pretendiente rodrigo obtuvo una calificación 2\n"
     ]
    }
   ],
   "source": [
    "pretendientes = [\n",
    "    ['julio','negro',1.60,12000,3,'esqualido'],\n",
    "    ['vladimir','rubio',1.90,25000,10,'obeso'],\n",
    "    ['rodrigo','negro',1.75,24000,6,'mamado']\n",
    "]\n",
    "\n",
    "for p in pretendientes:\n",
    "    calificar_pretendiente(p)"
   ]
  },
  {
   "cell_type": "code",
   "execution_count": 42,
   "metadata": {},
   "outputs": [],
   "source": [
    "name = 'Gerardo'\n",
    "edad = 35\n",
    "\n",
    "maximo_edad = 45\n",
    "minimo_viajes_anuales = 12\n",
    "minimo_contribucion_mensual = 50000\n",
    "\n",
    "def select_sugarmommy(edad,viajes,contribucion):\n",
    "    token = True\n",
    "    if edad > maximo_edad:\n",
    "        token = False\n",
    "    if viajes < minimo_viajes_anuales:\n",
    "        token = False\n",
    "    if contribucion < minimo_contribucion_mensual:\n",
    "        token = False\n",
    "        \n",
    "    if token:\n",
    "        print('Vengase mamasita')\n",
    "    else:\n",
    "        print('disculpe mami, pero me cotizo')"
   ]
  },
  {
   "cell_type": "code",
   "execution_count": 45,
   "metadata": {},
   "outputs": [
    {
     "name": "stdout",
     "output_type": "stream",
     "text": [
      "Vengase mamasita\n"
     ]
    }
   ],
   "source": [
    "select_sugarmommy(45,12,60000)"
   ]
  },
  {
   "cell_type": "markdown",
   "metadata": {},
   "source": [
    "### 10. Clases - programación Orientada a Objetos"
   ]
  }
 ],
 "metadata": {
  "kernelspec": {
   "display_name": "Python 3",
   "language": "python",
   "name": "python3"
  },
  "language_info": {
   "codemirror_mode": {
    "name": "ipython",
    "version": 3
   },
   "file_extension": ".py",
   "mimetype": "text/x-python",
   "name": "python",
   "nbconvert_exporter": "python",
   "pygments_lexer": "ipython3",
   "version": "3.8.5"
  }
 },
 "nbformat": 4,
 "nbformat_minor": 4
}
