{
 "cells": [
  {
   "cell_type": "markdown",
   "metadata": {},
   "source": [
    "# Introducción a Python\n",
    "\n",
    "¡Un curso de zero2hero!\n",
    "\n",
    "$\\textbf{Instructor}$: Jonatan Blank Hall"
   ]
  },
  {
   "cell_type": "markdown",
   "metadata": {},
   "source": [
    "### 1. Variables"
   ]
  },
  {
   "cell_type": "code",
   "execution_count": 14,
   "metadata": {},
   "outputs": [
    {
     "name": "stdout",
     "output_type": "stream",
     "text": [
      "Año de nacimiento: 1998\n"
     ]
    }
   ],
   "source": [
    "edad = 24\n",
    "año = 2022\n",
    "\n",
    "año_nacimiento = año - edad\n",
    "\n",
    "print(f'Año de nacimiento: {año_nacimiento}')"
   ]
  },
  {
   "cell_type": "code",
   "execution_count": 18,
   "metadata": {},
   "outputs": [
    {
     "name": "stdout",
     "output_type": "stream",
     "text": [
      "Nombre: Jonatan\n",
      "Muy buenos días Jonatan\n"
     ]
    }
   ],
   "source": [
    "nombre = input('Nombre: ')\n",
    "print(f'Muy buenos días {nombre}')"
   ]
  },
  {
   "cell_type": "code",
   "execution_count": 21,
   "metadata": {},
   "outputs": [
    {
     "name": "stdout",
     "output_type": "stream",
     "text": [
      "\n",
      "    Buenos días Juan Carlos,\n",
      "    De tu ingreso total $30000:\n",
      "    $4500.0 dedicas a gastos fijos\n",
      "    $3000.0 dedicas a gastos variables\n",
      "    $3000.0 dedicas a gastos inversion\n",
      "    $19500.0 dedicas a ahorros\n",
      "\n"
     ]
    }
   ],
   "source": [
    "nombre = 'Juan Carlos'\n",
    "edad = 29\n",
    "ingreso = 30000\n",
    "gasto_fijo = .15\n",
    "gasto_variable = .1\n",
    "gasto_inversion = .1\n",
    "ahorro = 1 - (gasto_fijo + gasto_variable + gasto_inversion)\n",
    "\n",
    "#Reporte financiero\n",
    "print(f'''\n",
    "    Buenos días {nombre},\n",
    "    De tu ingreso total ${ingreso}:\n",
    "    ${ingreso*gasto_fijo} dedicas a gastos fijos\n",
    "    ${ingreso*gasto_variable} dedicas a gastos variables\n",
    "    ${ingreso*gasto_inversion} dedicas a gastos inversion\n",
    "    ${ingreso*ahorro} dedicas a ahorros\n",
    "''')"
   ]
  },
  {
   "cell_type": "markdown",
   "metadata": {},
   "source": [
    "### 2. Operaciones Matemáticas"
   ]
  },
  {
   "cell_type": "code",
   "execution_count": 24,
   "metadata": {},
   "outputs": [
    {
     "name": "stdout",
     "output_type": "stream",
     "text": [
      "40\n",
      "Hola Bebe\n"
     ]
    }
   ],
   "source": [
    "#operacion suma\n",
    "print(10+10+20)\n",
    "\n",
    "print('Hola'+' '+'Bebe')"
   ]
  },
  {
   "cell_type": "code",
   "execution_count": 25,
   "metadata": {},
   "outputs": [
    {
     "name": "stdout",
     "output_type": "stream",
     "text": [
      "30\n",
      "holaholaholaholahola\n"
     ]
    }
   ],
   "source": [
    "#operacion multiplicacion\n",
    "print(10*3)\n",
    "\n",
    "print('hola'*5)"
   ]
  },
  {
   "cell_type": "code",
   "execution_count": 26,
   "metadata": {},
   "outputs": [
    {
     "data": {
      "text/plain": [
       "9.0"
      ]
     },
     "execution_count": 26,
     "metadata": {},
     "output_type": "execute_result"
    }
   ],
   "source": [
    "#operacion division\n",
    "90/10"
   ]
  },
  {
   "cell_type": "code",
   "execution_count": 27,
   "metadata": {},
   "outputs": [
    {
     "data": {
      "text/plain": [
       "10000"
      ]
     },
     "execution_count": 27,
     "metadata": {},
     "output_type": "execute_result"
    }
   ],
   "source": [
    "#operacion exponente\n",
    "10**4"
   ]
  },
  {
   "cell_type": "code",
   "execution_count": 28,
   "metadata": {},
   "outputs": [
    {
     "data": {
      "text/plain": [
       "1"
      ]
     },
     "execution_count": 28,
     "metadata": {},
     "output_type": "execute_result"
    }
   ],
   "source": [
    "#operacion módulo\n",
    "10%3"
   ]
  },
  {
   "cell_type": "markdown",
   "metadata": {},
   "source": [
    "### 3. Booleanos"
   ]
  },
  {
   "cell_type": "code",
   "execution_count": 29,
   "metadata": {},
   "outputs": [],
   "source": [
    "verdadero = True\n",
    "falso = False"
   ]
  },
  {
   "cell_type": "code",
   "execution_count": 30,
   "metadata": {},
   "outputs": [
    {
     "data": {
      "text/plain": [
       "True"
      ]
     },
     "execution_count": 30,
     "metadata": {},
     "output_type": "execute_result"
    }
   ],
   "source": [
    "10+1 == 12-1"
   ]
  },
  {
   "cell_type": "code",
   "execution_count": 31,
   "metadata": {},
   "outputs": [
    {
     "data": {
      "text/plain": [
       "False"
      ]
     },
     "execution_count": 31,
     "metadata": {},
     "output_type": "execute_result"
    }
   ],
   "source": [
    "10+2 == 10*2-6"
   ]
  },
  {
   "cell_type": "code",
   "execution_count": 32,
   "metadata": {},
   "outputs": [
    {
     "data": {
      "text/plain": [
       "True"
      ]
     },
     "execution_count": 32,
     "metadata": {},
     "output_type": "execute_result"
    }
   ],
   "source": [
    "10+5 != 16"
   ]
  },
  {
   "cell_type": "code",
   "execution_count": 35,
   "metadata": {},
   "outputs": [
    {
     "data": {
      "text/plain": [
       "False"
      ]
     },
     "execution_count": 35,
     "metadata": {},
     "output_type": "execute_result"
    }
   ],
   "source": [
    "0 == 0.00000000001"
   ]
  },
  {
   "cell_type": "markdown",
   "metadata": {},
   "source": [
    "### 4. Operaciones lógicas"
   ]
  },
  {
   "cell_type": "code",
   "execution_count": 36,
   "metadata": {},
   "outputs": [
    {
     "data": {
      "text/plain": [
       "True"
      ]
     },
     "execution_count": 36,
     "metadata": {},
     "output_type": "execute_result"
    }
   ],
   "source": [
    "#and\n",
    "15 > 10 and 9 > 8"
   ]
  },
  {
   "cell_type": "code",
   "execution_count": 37,
   "metadata": {},
   "outputs": [
    {
     "data": {
      "text/plain": [
       "False"
      ]
     },
     "execution_count": 37,
     "metadata": {},
     "output_type": "execute_result"
    }
   ],
   "source": [
    "12 > 1 and 10 > 11"
   ]
  },
  {
   "cell_type": "code",
   "execution_count": 39,
   "metadata": {},
   "outputs": [
    {
     "name": "stdout",
     "output_type": "stream",
     "text": [
      "username: blankhall\n",
      "password: ilovepython\n"
     ]
    },
    {
     "data": {
      "text/plain": [
       "True"
      ]
     },
     "execution_count": 39,
     "metadata": {},
     "output_type": "execute_result"
    }
   ],
   "source": [
    "username = 'blankhall'\n",
    "password = 'ilovepython'\n",
    "\n",
    "u = input('username: ')\n",
    "p = input('password: ')\n",
    "\n",
    "username == u and password == p"
   ]
  },
  {
   "cell_type": "code",
   "execution_count": 40,
   "metadata": {},
   "outputs": [
    {
     "data": {
      "text/plain": [
       "True"
      ]
     },
     "execution_count": 40,
     "metadata": {},
     "output_type": "execute_result"
    }
   ],
   "source": [
    "#or \n",
    "'hola' == 'HOLA' or 1 > 0"
   ]
  },
  {
   "cell_type": "code",
   "execution_count": 42,
   "metadata": {},
   "outputs": [
    {
     "data": {
      "text/plain": [
       "False"
      ]
     },
     "execution_count": 42,
     "metadata": {},
     "output_type": "execute_result"
    }
   ],
   "source": [
    "10 > 100 or 9 == 9.1"
   ]
  },
  {
   "cell_type": "markdown",
   "metadata": {},
   "source": [
    "### 5. Condicionales"
   ]
  },
  {
   "cell_type": "code",
   "execution_count": 44,
   "metadata": {},
   "outputs": [
    {
     "name": "stdout",
     "output_type": "stream",
     "text": [
      "name: jonatan\n",
      "bienvenido guapo\n"
     ]
    }
   ],
   "source": [
    "name = input('name: ')\n",
    "\n",
    "if name == 'jonatan':\n",
    "    print('bienvenido guapo')\n",
    "else:\n",
    "    print(f'Bienvenido, {name}')"
   ]
  },
  {
   "cell_type": "code",
   "execution_count": 51,
   "metadata": {},
   "outputs": [
    {
     "name": "stdout",
     "output_type": "stream",
     "text": [
      "username: hohoho\n",
      "password: 989\n",
      "Usuario o Contraseña incorrectos. Vuelve a Intentarlo\n",
      "username: blankhall\n",
      "password: ilovepython\n",
      "Bienvenido, puedes entrar blankhall!\n"
     ]
    }
   ],
   "source": [
    "username = 'blankhall'\n",
    "password = 'ilovepython'\n",
    "\n",
    "u = input('username: ')\n",
    "p = input('password: ')\n",
    "\n",
    "if username == u and password == p:\n",
    "    print(f'Bienvenido, puedes entrar {username}!')\n",
    "else:\n",
    "    print('Usuario o Contraseña incorrectos. Vuelve a Intentarlo')"
   ]
  },
  {
   "cell_type": "code",
   "execution_count": 50,
   "metadata": {},
   "outputs": [
    {
     "name": "stdout",
     "output_type": "stream",
     "text": [
      "estás aún muy chiquito, no pasas\n"
     ]
    }
   ],
   "source": [
    "#estructura if else\n",
    "edad = 16\n",
    "\n",
    "if edad > 18:\n",
    "    print('Puedes entrar')\n",
    "elif edad == 18:\n",
    "    print('Apenas pasaste, muestra esa ID')\n",
    "elif edad == 17:\n",
    "    print('uuuuy chavo, te quedaste a nada')\n",
    "else:\n",
    "    print('estás aún muy chiquito, no pasas')"
   ]
  },
  {
   "cell_type": "markdown",
   "metadata": {},
   "source": [
    "### 6. While"
   ]
  },
  {
   "cell_type": "code",
   "execution_count": 4,
   "metadata": {},
   "outputs": [
    {
     "name": "stdout",
     "output_type": "stream",
     "text": [
      "1\n",
      "2\n",
      "3\n",
      "4\n",
      "5\n",
      "6\n",
      "7\n",
      "8\n",
      "9\n",
      "10\n"
     ]
    }
   ],
   "source": [
    "i = 0\n",
    "while i < 10:\n",
    "    i = i+1\n",
    "    print(i)"
   ]
  },
  {
   "cell_type": "code",
   "execution_count": 5,
   "metadata": {},
   "outputs": [
    {
     "name": "stdout",
     "output_type": "stream",
     "text": [
      "name: raul\n",
      "no eres quien esperaba\n",
      "name: fede\n",
      "no eres quien esperaba\n",
      "name: jonatan\n",
      "bienvenido maestro\n"
     ]
    }
   ],
   "source": [
    "token = False\n",
    "while not token:\n",
    "    name = input('name: ')\n",
    "    #quiero que pongan jonatan\n",
    "    if name == 'jonatan':\n",
    "        print('bienvenido maestro')\n",
    "        token = True\n",
    "    else:\n",
    "        print('no eres quien esperaba')"
   ]
  },
  {
   "cell_type": "markdown",
   "metadata": {},
   "source": [
    "### 7. Listas"
   ]
  },
  {
   "cell_type": "code",
   "execution_count": 8,
   "metadata": {},
   "outputs": [],
   "source": [
    "#arrays\n",
    "lista = ['pepe']"
   ]
  },
  {
   "cell_type": "code",
   "execution_count": 9,
   "metadata": {},
   "outputs": [
    {
     "data": {
      "text/plain": [
       "1"
      ]
     },
     "execution_count": 9,
     "metadata": {},
     "output_type": "execute_result"
    }
   ],
   "source": [
    "#numero de elementos en la lista\n",
    "len(lista)"
   ]
  },
  {
   "cell_type": "code",
   "execution_count": 10,
   "metadata": {},
   "outputs": [],
   "source": [
    "#agregar elementos a la lista\n",
    "lista.append('raul')"
   ]
  },
  {
   "cell_type": "code",
   "execution_count": 13,
   "metadata": {},
   "outputs": [],
   "source": [
    "amigos = ['pepe','raul','jose','fernando']"
   ]
  },
  {
   "cell_type": "code",
   "execution_count": 16,
   "metadata": {},
   "outputs": [],
   "source": [
    "#eliminar un elemento\n",
    "amigos.remove('raul')"
   ]
  },
  {
   "cell_type": "code",
   "execution_count": 17,
   "metadata": {},
   "outputs": [
    {
     "name": "stdout",
     "output_type": "stream",
     "text": [
      "['pepe', 'jose', 'fernando']\n"
     ]
    }
   ],
   "source": [
    "print(amigos)"
   ]
  },
  {
   "cell_type": "markdown",
   "metadata": {},
   "source": [
    "### 8. Ciclos"
   ]
  },
  {
   "cell_type": "code",
   "execution_count": 18,
   "metadata": {},
   "outputs": [],
   "source": [
    "numeros = [1,2,3,4,5,6]"
   ]
  },
  {
   "cell_type": "code",
   "execution_count": 22,
   "metadata": {},
   "outputs": [
    {
     "name": "stdout",
     "output_type": "stream",
     "text": [
      "El número actual es: 1\n",
      "El número actual es: 2\n",
      "El número actual es: 3\n",
      "El número actual es: 4\n",
      "El número actual es: 5\n",
      "El número actual es: 6\n"
     ]
    }
   ],
   "source": [
    "for n in numeros:\n",
    "    print(f'El número actual es: {n}')"
   ]
  },
  {
   "cell_type": "code",
   "execution_count": 32,
   "metadata": {},
   "outputs": [
    {
     "name": "stdout",
     "output_type": "stream",
     "text": [
      "El pretendiente julio obtuvo una calificación -0.5\n",
      "El pretendiente vladimir obtuvo una calificación 1\n",
      "El pretendiente rodrigo obtuvo una calificación 2\n"
     ]
    }
   ],
   "source": [
    "max_pretendientes = 5\n",
    "cabello = 'negro'\n",
    "minimo_altura = 1.80\n",
    "minimo_salario = 0\n",
    "minimo_interes = 4\n",
    "corpulencia = 'mamado'\n",
    "\n",
    "pretendientes = [\n",
    "    ['julio','negro',1.60,12000,3,'esqualido'],\n",
    "    ['vladimir','rubio',1.90,25000,10,'obeso'],\n",
    "    ['rodrigo','negro',1.75,24000,6,'mamado']\n",
    "]\n",
    "\n",
    "for p in pretendientes:\n",
    "    calif = 0\n",
    "    #criterio cabello\n",
    "    if p[1] == 'negro':\n",
    "        calif = calif + 1\n",
    "    elif p[1] == 'castaño':\n",
    "        calif = calif + 0.5\n",
    "    #altura\n",
    "    if p[2] > 1.8:\n",
    "        calif = calif + 1\n",
    "    elif p[2] > 1.75:\n",
    "        calif = calif + .5\n",
    "    else: \n",
    "        calif = calif - 1\n",
    "    #salario\n",
    "    if p[3] > 0:\n",
    "        calif = calif + 0\n",
    "    #interes\n",
    "    if p[4] > 4:\n",
    "        calif = calif + 1\n",
    "    elif p[4] > 1:\n",
    "        calif = calif + 0.5\n",
    "    else:\n",
    "        calif = calif - 1\n",
    "    #corpulencia\n",
    "    if p[5] == 'mamado':\n",
    "        calif = calif + 1\n",
    "    elif p[5] == 'esqualido' or p[5] == 'obeso':\n",
    "        calif = calif - 1\n",
    "    \n",
    "    #calificacion\n",
    "    print(f'El pretendiente {p[0]} obtuvo una calificación {calif}')"
   ]
  },
  {
   "cell_type": "markdown",
   "metadata": {},
   "source": [
    "### 9. Funciones"
   ]
  },
  {
   "cell_type": "code",
   "execution_count": 33,
   "metadata": {},
   "outputs": [],
   "source": [
    "def saludar(name):\n",
    "    print(f'hola {name}')"
   ]
  },
  {
   "cell_type": "code",
   "execution_count": 34,
   "metadata": {},
   "outputs": [
    {
     "name": "stdout",
     "output_type": "stream",
     "text": [
      "hola pedro\n"
     ]
    }
   ],
   "source": [
    "saludar('pedro')"
   ]
  },
  {
   "cell_type": "code",
   "execution_count": 37,
   "metadata": {},
   "outputs": [],
   "source": [
    "def calificar_pretendiente(p):\n",
    "    calif = 0\n",
    "    #criterio cabello\n",
    "    if p[1] == 'negro':\n",
    "        calif = calif + 1\n",
    "    elif p[1] == 'castaño':\n",
    "        calif = calif + 0.5\n",
    "    #altura\n",
    "    if p[2] > 1.8:\n",
    "        calif = calif + 1\n",
    "    elif p[2] > 1.75:\n",
    "        calif = calif + .5\n",
    "    else: \n",
    "        calif = calif - 1\n",
    "    #salario\n",
    "    if p[3] > 0:\n",
    "        calif = calif + 0\n",
    "    #interes\n",
    "    if p[4] > 4:\n",
    "        calif = calif + 1\n",
    "    elif p[4] > 1:\n",
    "        calif = calif + 0.5\n",
    "    else:\n",
    "        calif = calif - 1\n",
    "    #corpulencia\n",
    "    if p[5] == 'mamado':\n",
    "        calif = calif + 1\n",
    "    elif p[5] == 'esqualido' or p[5] == 'obeso':\n",
    "        calif = calif - 1\n",
    "    \n",
    "    #calificacion\n",
    "    print(f'El pretendiente {p[0]} obtuvo una calificación {calif}')"
   ]
  },
  {
   "cell_type": "code",
   "execution_count": 38,
   "metadata": {},
   "outputs": [
    {
     "name": "stdout",
     "output_type": "stream",
     "text": [
      "El pretendiente rodrigo obtuvo una calificación 2\n"
     ]
    }
   ],
   "source": [
    "calificar_pretendiente(['rodrigo','negro',1.75,24000,6,'mamado'])"
   ]
  },
  {
   "cell_type": "code",
   "execution_count": 41,
   "metadata": {},
   "outputs": [
    {
     "name": "stdout",
     "output_type": "stream",
     "text": [
      "El pretendiente julio obtuvo una calificación -0.5\n",
      "El pretendiente vladimir obtuvo una calificación 1\n",
      "El pretendiente rodrigo obtuvo una calificación 2\n"
     ]
    }
   ],
   "source": [
    "pretendientes = [\n",
    "    ['julio','negro',1.60,12000,3,'esqualido'],\n",
    "    ['vladimir','rubio',1.90,25000,10,'obeso'],\n",
    "    ['rodrigo','negro',1.75,24000,6,'mamado']\n",
    "]\n",
    "\n",
    "for p in pretendientes:\n",
    "    calificar_pretendiente(p)"
   ]
  },
  {
   "cell_type": "code",
   "execution_count": 42,
   "metadata": {},
   "outputs": [],
   "source": [
    "name = 'Gerardo'\n",
    "edad = 35\n",
    "\n",
    "maximo_edad = 45\n",
    "minimo_viajes_anuales = 12\n",
    "minimo_contribucion_mensual = 50000\n",
    "\n",
    "def select_sugarmommy(edad,viajes,contribucion):\n",
    "    token = True\n",
    "    if edad > maximo_edad:\n",
    "        token = False\n",
    "    if viajes < minimo_viajes_anuales:\n",
    "        token = False\n",
    "    if contribucion < minimo_contribucion_mensual:\n",
    "        token = False\n",
    "        \n",
    "    if token:\n",
    "        print('Vengase mamasita')\n",
    "    else:\n",
    "        print('disculpe mami, pero me cotizo')"
   ]
  },
  {
   "cell_type": "code",
   "execution_count": 45,
   "metadata": {},
   "outputs": [
    {
     "name": "stdout",
     "output_type": "stream",
     "text": [
      "Vengase mamasita\n"
     ]
    }
   ],
   "source": [
    "select_sugarmommy(45,12,60000)"
   ]
  },
  {
   "cell_type": "markdown",
   "metadata": {},
   "source": [
    "### 10. Gráficas"
   ]
  },
  {
   "cell_type": "code",
   "execution_count": 1,
   "metadata": {},
   "outputs": [],
   "source": [
    "import matplotlib.pyplot as plt\n",
    "import numpy as np"
   ]
  },
  {
   "cell_type": "code",
   "execution_count": 2,
   "metadata": {},
   "outputs": [],
   "source": [
    "meses = range(1,13)"
   ]
  },
  {
   "cell_type": "code",
   "execution_count": 3,
   "metadata": {},
   "outputs": [
    {
     "name": "stdout",
     "output_type": "stream",
     "text": [
      "1\n",
      "2\n",
      "3\n",
      "4\n",
      "5\n",
      "6\n",
      "7\n",
      "8\n",
      "9\n",
      "10\n",
      "11\n",
      "12\n"
     ]
    }
   ],
   "source": [
    "for m in meses:\n",
    "    print(m)"
   ]
  },
  {
   "cell_type": "code",
   "execution_count": 4,
   "metadata": {},
   "outputs": [],
   "source": [
    "def ahorro(ahorroxmes,num_meses):\n",
    "    return ahorroxmes*num_meses"
   ]
  },
  {
   "cell_type": "code",
   "execution_count": 7,
   "metadata": {},
   "outputs": [
    {
     "name": "stdout",
     "output_type": "stream",
     "text": [
      "ahorrando 1 meses la cantidad de $100, tendrías $100\n",
      "ahorrando 2 meses la cantidad de $100, tendrías $200\n",
      "ahorrando 3 meses la cantidad de $100, tendrías $300\n",
      "ahorrando 4 meses la cantidad de $100, tendrías $400\n",
      "ahorrando 5 meses la cantidad de $100, tendrías $500\n",
      "ahorrando 6 meses la cantidad de $100, tendrías $600\n",
      "ahorrando 7 meses la cantidad de $100, tendrías $700\n",
      "ahorrando 8 meses la cantidad de $100, tendrías $800\n",
      "ahorrando 9 meses la cantidad de $100, tendrías $900\n",
      "ahorrando 10 meses la cantidad de $100, tendrías $1000\n",
      "ahorrando 11 meses la cantidad de $100, tendrías $1100\n",
      "ahorrando 12 meses la cantidad de $100, tendrías $1200\n"
     ]
    }
   ],
   "source": [
    "ahorro_mensual = 100\n",
    "for m in meses:\n",
    "    a = ahorro(ahorro_mensual,m)\n",
    "    print(f'ahorrando {m} meses la cantidad de ${ahorro_mensual}, tendrías ${a}')"
   ]
  },
  {
   "cell_type": "code",
   "execution_count": 10,
   "metadata": {},
   "outputs": [
    {
     "name": "stdout",
     "output_type": "stream",
     "text": [
      "[1, 2, 3, 4, 5, 6, 7, 8, 9, 10, 11, 12]\n",
      "[100, 200, 300, 400, 500, 600, 700, 800, 900, 1000, 1100, 1200]\n"
     ]
    },
    {
     "data": {
      "text/plain": [
       "[<matplotlib.lines.Line2D at 0x1fc2ffa82e0>]"
      ]
     },
     "execution_count": 10,
     "metadata": {},
     "output_type": "execute_result"
    },
    {
     "data": {
      "image/png": "[encoded data removed]",
      "text/plain": [
       "<Figure size 432x288 with 1 Axes>"
      ]
     },
     "metadata": {
      "needs_background": "light"
     },
     "output_type": "display_data"
    }
   ],
   "source": [
    "ahorro_mensual = 100\n",
    "lista_ahorro = []\n",
    "for m in meses:\n",
    "    a = ahorro(ahorro_mensual,m)\n",
    "    lista_ahorro.append(a)\n",
    "print(list(meses))\n",
    "print(lista_ahorro)\n",
    "plt.plot(meses,lista_ahorro)"
   ]
  },
  {
   "cell_type": "markdown",
   "metadata": {},
   "source": [
    "#### La creación de la gráfica perfecta\n",
    "\n",
    "Nos ponemos la tarea de ahorror $\\$1000$ pesos mensuales. Además, planeamos invertir esos $\\$1000$ en CETES que generan un rendimiento mensual de $(((.08)/12)*100)\\%$. \n",
    "\n",
    "Me gustaría responder la siguiente pregunta:\n",
    "¿cuánto dinero tengo después de $\\textbf{n}$ meses repitiendo esta estrategia de ahorro?"
   ]
  },
  {
   "cell_type": "code",
   "execution_count": 34,
   "metadata": {},
   "outputs": [],
   "source": [
    "tasa_mensual_cete = 0.08/12\n",
    "inflacion = .03/12\n",
    "ahorro_mensual = 1000\n",
    "\n",
    "# am = ahorro mensual\n",
    "# tmc = tasa mensual cete\n",
    "# inf = inflacion mensual promedio\n",
    "# t = tiempo\n",
    "\n",
    "def ahorroCete(am,tmc,inf,t):\n",
    "    ahorro = [0]\n",
    "    for i in range(t):\n",
    "        nv = ahorro[i]*(1+(tmc-inf)) + am\n",
    "        ahorro.append(nv)\n",
    "    return ahorro[-1]"
   ]
  },
  {
   "cell_type": "code",
   "execution_count": 43,
   "metadata": {},
   "outputs": [
    {
     "data": {
      "text/plain": [
       "80166.66666666666"
      ]
     },
     "execution_count": 43,
     "metadata": {},
     "output_type": "execute_result"
    }
   ],
   "source": [
    "ahorroCete(ahorro_mensual,tasa_mensual_cete,inflacion,2)"
   ]
  },
  {
   "cell_type": "code",
   "execution_count": 36,
   "metadata": {},
   "outputs": [
    {
     "data": {
      "image/png": "[encoded data removed]",
      "text/plain": [
       "<Figure size 720x432 with 1 Axes>"
      ]
     },
     "metadata": {
      "needs_background": "light"
     },
     "output_type": "display_data"
    }
   ],
   "source": [
    "#INFORMACION DE INVERSION\n",
    "tmc1 = 0.08/12\n",
    "tmc2 = .20/12\n",
    "tmc3 = .16/12\n",
    "ahorro_mensual = 40000\n",
    "inf = .03/12\n",
    "\n",
    "#LISTAS\n",
    "meses = range(1,60)\n",
    "\n",
    "#ESTRETEGIA DE AHORRO\n",
    "ahorro1 = [ahorroCete(ahorro_mensual,tmc1,inf,m) for m in meses]\n",
    "ahorro2 = [ahorroCete(ahorro_mensual,tmc2,inf,m) for m in meses]\n",
    "ahorro3 = [ahorroCete(ahorro_mensual,tmc3,inf,m) for m in meses]\n",
    "\n",
    "#GRAFICA\n",
    "plt.figure(figsize = (10,6))\n",
    "\n",
    "#graficar la figura\n",
    "plt.plot(meses,ahorro1,label=f'{tmc1*100}%')\n",
    "plt.plot(meses,ahorro2,label=f'{tmc2*100}%')\n",
    "plt.plot(meses,ahorro3,label=f'{tmc3*100}%')\n",
    "\n",
    "#ejes\n",
    "plt.title(f'Estrategia de Inversion: tasa {tmc1*100}% ; monto mensual ${ahorro_mensual}')\n",
    "plt.xlabel('Meses')\n",
    "plt.ylabel('Dinero Ahorrado MX')\n",
    "\n",
    "#leyenda\n",
    "plt.legend()\n",
    "\n",
    "plt.show()"
   ]
  },
  {
   "cell_type": "code",
   "execution_count": 44,
   "metadata": {},
   "outputs": [],
   "source": [
    "def comparar3estrategias(tmc1,tmc2,tmc3,inf,ahorro_mensual):\n",
    "    #LISTAS\n",
    "    meses = range(1,60)\n",
    "\n",
    "    #ESTRETEGIA DE AHORRO\n",
    "    ahorro1 = [ahorroCete(ahorro_mensual,tmc1,inf,m) for m in meses]\n",
    "    ahorro2 = [ahorroCete(ahorro_mensual,tmc2,inf,m) for m in meses]\n",
    "    ahorro3 = [ahorroCete(ahorro_mensual,tmc3,inf,m) for m in meses]\n",
    "\n",
    "    #GRAFICA\n",
    "    plt.figure(figsize = (10,6))\n",
    "\n",
    "    #graficar la figura\n",
    "    plt.plot(meses,ahorro1,label=f'{tmc1*100}%')\n",
    "    plt.plot(meses,ahorro2,label=f'{tmc2*100}%')\n",
    "    plt.plot(meses,ahorro3,label=f'{tmc3*100}%')\n",
    "\n",
    "    #ejes\n",
    "    plt.title(f'Estrategia de Inversion: tasa {tmc1*100}% ; monto mensual ${ahorro_mensual}')\n",
    "    plt.xlabel('Meses')\n",
    "    plt.ylabel('Dinero Ahorrado MX')\n",
    "\n",
    "    #leyenda\n",
    "    plt.legend()\n",
    "\n",
    "    plt.show()"
   ]
  },
  {
   "cell_type": "code",
   "execution_count": 50,
   "metadata": {},
   "outputs": [
    {
     "data": {
      "image/png": "[encoded data removed]",
      "text/plain": [
       "<Figure size 720x432 with 1 Axes>"
      ]
     },
     "metadata": {
      "needs_background": "light"
     },
     "output_type": "display_data"
    }
   ],
   "source": [
    "comparar3estrategias(.08/12,1/12,.25/12,.05/12,3000)"
   ]
  },
  {
   "cell_type": "code",
   "execution_count": 46,
   "metadata": {},
   "outputs": [],
   "source": [
    "def BotStrategy():\n",
    "    print('brr brrr welcome...')\n",
    "    print('please answer the following... brr brrr...')\n",
    "    tmc1 = float(input('return strategy 1: '))\n",
    "    tmc2 = float(input('return strategy 2: '))\n",
    "    tmc3 = float(input('return strategy 3: '))\n",
    "    inf = float(input('monthly average inflation rate: '))\n",
    "    ahorro_mensual = float(input('monthly saving: '))\n",
    "    comparar3estrategias(tmc1,tmc2,tmc3,inf,ahorro_mensual)"
   ]
  },
  {
   "cell_type": "code",
   "execution_count": 48,
   "metadata": {},
   "outputs": [],
   "source": [
    "#BotStrategy()"
   ]
  },
  {
   "cell_type": "markdown",
   "metadata": {},
   "source": [
    "### 11. Clases - Programación Orientada a Objetos\n",
    "\n",
    "Construcción de una cartera de registros financieros:\n",
    "\n",
    "1. Gastos\n",
    "2. Ingresos\n",
    "\n",
    "Funciones de la cartera:\n",
    "\n",
    "1. Consultar Saldo\n",
    "2. Generar reportes Financieros\n",
    "3. Generar predicciones ante estrategias"
   ]
  },
  {
   "cell_type": "code",
   "execution_count": null,
   "metadata": {},
   "outputs": [],
   "source": []
  }
 ],
 "metadata": {
  "kernelspec": {
   "display_name": "Python 3",
   "language": "python",
   "name": "python3"
  },
  "language_info": {
   "codemirror_mode": {
    "name": "ipython",
    "version": 3
   },
   "file_extension": ".py",
   "mimetype": "text/x-python",
   "name": "python",
   "nbconvert_exporter": "python",
   "pygments_lexer": "ipython3",
   "version": "3.8.5"
  }
 },
 "nbformat": 4,
 "nbformat_minor": 4
}
